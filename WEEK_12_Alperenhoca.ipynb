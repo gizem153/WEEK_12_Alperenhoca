{
  "nbformat": 4,
  "nbformat_minor": 0,
  "metadata": {
    "colab": {
      "provenance": []
    },
    "kernelspec": {
      "name": "python3",
      "display_name": "Python 3"
    },
    "language_info": {
      "name": "python"
    }
  },
  "cells": [
    {
      "cell_type": "markdown",
      "source": [
        "Soru 1) Gradient Descent algortimasını kullanarak x^2+2*x+1 fonksiyonu için gloabil minumum noktasını bulunuz."
      ],
      "metadata": {
        "id": "uxL48QJvGvt1"
      }
    },
    {
      "cell_type": "code",
      "source": [
        "cur_x = 3 \n",
        "rate = 0.01 \n",
        "precision = 0.000001\n",
        "previous_step_size = 1 \n",
        "max_iters = 10000 \n",
        "iters = 0 \n",
        "df = lambda x: (x**2)+(2*x)+1 \n",
        "     "
      ],
      "metadata": {
        "id": "8RHSSBhxGwb7"
      },
      "execution_count": 1,
      "outputs": []
    },
    {
      "cell_type": "code",
      "source": [
        "while previous_step_size > precision and iters < max_iters:\n",
        "    prev_x = cur_x #Store current x value in prev_x\n",
        "    cur_x = cur_x - rate * df(prev_x) #Grad descent\n",
        "    previous_step_size = abs(cur_x - prev_x) #Change in x\n",
        "    iters = iters+1 #iteration count    \n",
        "print(\"The local minimum occurs at\", cur_x)"
      ],
      "metadata": {
        "colab": {
          "base_uri": "https://localhost:8080/"
        },
        "id": "7NrLPlIhH2bJ",
        "outputId": "53c36ad3-edfa-47a8-ef25-7ce4e66bb7b0"
      },
      "execution_count": 2,
      "outputs": [
        {
          "output_type": "stream",
          "name": "stdout",
          "text": [
            "The local minimum occurs at -0.9900010119710531\n"
          ]
        }
      ]
    },
    {
      "cell_type": "code",
      "source": [
        "import numpy as np\n",
        "import matplotlib.pyplot as plt\n",
        "xpts = np.linspace(-1.5, -0.5, 50)\n",
        "test = lambda x: x**2+2*x+1\n",
        "plt.plot(xpts, test(xpts))\n",
        "plt.show()\n",
        "     "
      ],
      "metadata": {
        "id": "ax5ahV0TIWg4",
        "outputId": "567ce58c-272f-45dd-a2ba-e04e2b47feec",
        "colab": {
          "base_uri": "https://localhost:8080/",
          "height": 265
        }
      },
      "execution_count": 3,
      "outputs": [
        {
          "output_type": "display_data",
          "data": {
            "text/plain": [
              "<Figure size 432x288 with 1 Axes>"
            ],
            "image/png": "[encoded data removed]"
          },
          "metadata": {
            "needs_background": "light"
          }
        }
      ]
    }
  ]
}